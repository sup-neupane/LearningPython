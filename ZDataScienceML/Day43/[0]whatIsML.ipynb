{
 "cells": [
  {
   "cell_type": "markdown",
   "metadata": {},
   "source": [
    "**What is ML?** <br>\n",
    "You can't get a computer to tell if an animal is a cat or not.\n",
    "<br>\n",
    "Of course, you can say if it meows, then it is a cat, but again, what is a meow?\n",
    "<br>\n",
    "These tasks can be easily done by humans.\n",
    "<br>\n",
    "Machine learning is making machines behave more like humans.\n",
    "<br>\n",
    "However, machines can sometimes get it right, and sometimes they don't.\n"
   ]
  },
  {
   "cell_type": "markdown",
   "metadata": {},
   "source": [
    "**AI, ML and Data Science** <br>\n",
    "\n",
    "AI means human like Intelligence exibited by machines <br>\n",
    "1. Narrow AI: Machines that are good at only one thing say machine that can detect heart disease looking at images <br>\n",
    "2. General AI: That are good at everything like humans, although we are far from general AI <br>\n",
    "\n",
    "<br>\n",
    "ML: It is a subset of AI and approach to acheive AI throuh systems that can find patterns in a set of data.\n",
    "<br>\n",
    "Deep Neural Networks/ Deep Learning: It is basically one of the technique for implementing ML <br>\n",
    "<br>\n",
    "Data Science:It is analyzing data usually for a business goal.  \n",
    "\n",
    "![Failed To Load Image](Diagram1.png)\n",
    "\n"
   ]
  },
  {
   "cell_type": "markdown",
   "metadata": {},
   "source": [
    "**Why?**  \n",
    "Over the years we have evolved in the way we visualise data  \n",
    "It would be impossible to make a decision for a human to look at a csv and make decision  \n",
    "So we turn into machine learning to make these decisions for us  \n",
    "\n",
    "![Failed To Load Image](Diagram2.png)\n"
   ]
  },
  {
   "cell_type": "markdown",
   "metadata": {},
   "source": [
    "**Types of ML**\n",
    "ML is about predicting data based on incomming data these subcatagories simply do that:  \n",
    "1.Supervised learning involves training a model on labeled data to make predictions or classify new data.  \n",
    "2.Unsupervised learning finds hidden patterns or intrinsic structures in unlabeled data.  \n",
    "3.Reinforcement learning trains agents to make a sequence of decisions by rewarding desired behaviors and penalizing undesired ones.  \n",
    "\n",
    "\n",
    "\n",
    "\n",
    "![Failed to Load Image](Diagram3.png)"
   ]
  },
  {
   "cell_type": "markdown",
   "metadata": {},
   "source": [
    "**How is ML algorithm/model different from normal algorithm?**  \n",
    "Normal algorithm starts with instructions and gives output  \n",
    "ML models looks input and ideal output and finds the steps  \n",
    "![Failed To Load](Diagram4.png)\n",
    "![Failed To Load](Diagram6.png)\n"
   ]
  },
  {
   "cell_type": "markdown",
   "metadata": {},
   "source": []
  }
 ],
 "metadata": {
  "language_info": {
   "name": "python"
  }
 },
 "nbformat": 4,
 "nbformat_minor": 2
}
