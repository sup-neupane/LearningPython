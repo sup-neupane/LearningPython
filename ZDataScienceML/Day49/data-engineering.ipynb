{
 "cells": [
  {
   "cell_type": "markdown",
   "metadata": {
    "vscode": {
     "languageId": "plaintext"
    }
   },
   "source": [
    "### **Data Engineering**"
   ]
  },
  {
   "cell_type": "markdown",
   "metadata": {},
   "source": [
    "![Failed to Load](de1.png)"
   ]
  },
  {
   "cell_type": "markdown",
   "metadata": {},
   "source": [
    "![Failed To Load](de2.png)"
   ]
  },
  {
   "cell_type": "markdown",
   "metadata": {},
   "source": [
    "Software Engineer – Develop applications that manage and release data effectively  \n",
    "Data Engineer – Design and implement data pipelines for seamless data flow  \n",
    "Data Scientist – Leverage data lakes and data warehouses to derive actionable insights  \n",
    "Data Analyst – Extract and analyze data from data warehouses for business intelligence  \n",
    "![Failed To Load](de3.png)"
   ]
  }
 ],
 "metadata": {
  "language_info": {
   "name": "python"
  }
 },
 "nbformat": 4,
 "nbformat_minor": 2
}
