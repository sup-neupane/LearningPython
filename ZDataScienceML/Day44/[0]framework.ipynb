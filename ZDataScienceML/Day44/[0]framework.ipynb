{
 "cells": [
  {
   "cell_type": "markdown",
   "metadata": {},
   "source": [
    "This is rough sketch of any project  \n",
    "![Failed To Load](Diagram6.png)"
   ]
  },
  {
   "cell_type": "markdown",
   "metadata": {},
   "source": [
    "![Failed To Load](Diagram7.png)\n",
    "![Failed To Load](Diagram8.png)\n",
    "![Failed To Load](Diagram9.png)\n",
    "![Failed To Load](Diagram10.png)\n",
    "![Failed To Load](Diagram11.png)\n",
    "![Failed To Load](Diagram12.png)"
   ]
  },
  {
   "cell_type": "markdown",
   "metadata": {},
   "source": [
    "**Types of Machine Learning Problem**  \n",
    "1. Supervised Learning:  \n",
    "Here you have data and levels. If the algorithm predicts the label wrong then it corrects itself.  \n",
    "![Failed To Load](Diagram13.png)\n",
    "\n",
    "Types of supervised learning problems are :  \n",
    "Classification: Predict if sth is one or the other it can be binary or multi class(more than two catagories) e.g. Does this person have a heart disease or not   \n",
    "Regression: It is trying to predict a number e.g. for how much will this house sell for  \n",
    "  \n",
    "2. Unsupeervised Learning:\n",
    "Here you dont have labels. Here you the programmer groups (clusters) the data together.Unlike supervised learning, where the model is provided with input-output pairs, unsupervised learning deals with input data only and tries to make sense of it without predefined categories or labels.  \n",
    "![Failed To Load](Diagram14.png)  \n",
    "  \n",
    "3. Transfer Learning:  \n",
    "Transfer learning is a machine learning technique where a model developed for a particular task is reused as the starting point for a model on a second task. It leverages the knowledge gained from one domain (where data is abundant) and applies it to a different, but related, domain (where data may be scarce).  \n",
    "![Failed To Load](Diagram15.png)  \n",
    "\n",
    "4. Reinforcement Learning:\n",
    "Reinforcement Learning (RL) is a type of machine learning where an agent learns to make decisions by performing actions in an environment to achieve a goal. The agent learns by receiving rewards or penalties based on the actions it takes, aiming to maximize the cumulative reward over time.  \n",
    "![Failed To Load](Diagram16.png) \n",
    "\n",
    "\n"
   ]
  },
  {
   "cell_type": "markdown",
   "metadata": {},
   "source": [
    "**What data we have?**  \n",
    "Data can be structured or unstructured.  \n",
    "These two data types can be static meaning they dont change over time like csv  or streaming meaning they are dynamic like stock data.  \n"
   ]
  },
  {
   "cell_type": "markdown",
   "metadata": {},
   "source": [
    "**Types of Evaluation**  \n",
    "Here we answer what defines sucess for us  \n",
    "![Failed To Load](Diagram17.png)  \n"
   ]
  },
  {
   "cell_type": "markdown",
   "metadata": {},
   "source": [
    "**Features In Data**  \n",
    "We explain what features do we already know about the data and what features we plan to predict  \n",
    "![Failed To Load](Diagram18.png)  \n",
    "  \n",
    "Feature engineering: It is deriving new feature analyzing the existing features like deriving Has visited hospital last year? looking at existing feature Frequency of hospital visit  "
   ]
  },
  {
   "cell_type": "markdown",
   "metadata": {},
   "source": [
    "**Modelling**  \n",
    "1. Splitting Data:  \n",
    "You split your data into three sets:  \n",
    "![FailedTo Load](Diagram19.png)  \n",
    "  \n",
    "2. Picking a Model: \n",
    "![Failed To Load](Diagram20.png)  \n",
    "In training a model our goal is to Minimise time between experiments  \n",
    "\n",
    "3. Tuning:  \n",
    "Machine learning models have hyperparameters you can adjust  \n",
    "Tuning is done on these parameters usually with validation data sets  \n",
    "4. Comparison: \n",
    "Ideal model fits in the Goldilocks zone  \n",
    "![Failed To Load](Diagram21.png) \n",
    "![Failed To Load](Diagram22.png)  \n",
    "Overfitting: Happens when test data leaks into training data  \n",
    "Underfitting: Happens when data is mismatched i.e. test data and train data are not relevant  \n",
    "  \n",
    "The best model isnt selected based on a single performance metric  \n",
    "\n",
    "\n",
    "\n",
    "\n",
    "\n",
    " \n",
    "\n"
   ]
  },
  {
   "cell_type": "markdown",
   "metadata": {},
   "source": [
    "**Experimentation**  \n",
    "Keep on experimenting!"
   ]
  }
 ],
 "metadata": {
  "language_info": {
   "name": "python"
  }
 },
 "nbformat": 4,
 "nbformat_minor": 2
}
